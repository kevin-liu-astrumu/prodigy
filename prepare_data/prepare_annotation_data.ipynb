{
 "cells": [
  {
   "cell_type": "code",
   "execution_count": 9,
   "metadata": {},
   "outputs": [],
   "source": [
    "import pandas as pd \n",
    "\n",
    "df = pd.read_csv('../data/raw_data/jd_chunked_data.csv')\n"
   ]
  },
  {
   "cell_type": "code",
   "execution_count": 10,
   "metadata": {},
   "outputs": [
    {
     "data": {
      "text/html": [
       "<div>\n",
       "<style scoped>\n",
       "    .dataframe tbody tr th:only-of-type {\n",
       "        vertical-align: middle;\n",
       "    }\n",
       "\n",
       "    .dataframe tbody tr th {\n",
       "        vertical-align: top;\n",
       "    }\n",
       "\n",
       "    .dataframe thead th {\n",
       "        text-align: right;\n",
       "    }\n",
       "</style>\n",
       "<table border=\"1\" class=\"dataframe\">\n",
       "  <thead>\n",
       "    <tr style=\"text-align: right;\">\n",
       "      <th></th>\n",
       "      <th>Unnamed: 0</th>\n",
       "      <th>Sentence description</th>\n",
       "      <th>Sentence label</th>\n",
       "    </tr>\n",
       "  </thead>\n",
       "  <tbody>\n",
       "    <tr>\n",
       "      <th>0</th>\n",
       "      <td>0</td>\n",
       "      <td>our offerings of products have grown to includ...</td>\n",
       "      <td>['electric vehicle', 'solar panels']</td>\n",
       "    </tr>\n",
       "    <tr>\n",
       "      <th>1</th>\n",
       "      <td>1</td>\n",
       "      <td>as a 100 employee owned company and a certifie...</td>\n",
       "      <td>['fossil fuels']</td>\n",
       "    </tr>\n",
       "    <tr>\n",
       "      <th>2</th>\n",
       "      <td>2</td>\n",
       "      <td>there is also an opportunity to help develop a...</td>\n",
       "      <td>['renewable energy']</td>\n",
       "    </tr>\n",
       "    <tr>\n",
       "      <th>3</th>\n",
       "      <td>3</td>\n",
       "      <td>role and responsibilities include but not limi...</td>\n",
       "      <td>['energy technologies']</td>\n",
       "    </tr>\n",
       "    <tr>\n",
       "      <th>4</th>\n",
       "      <td>4</td>\n",
       "      <td>record all customer interactions and schedule ...</td>\n",
       "      <td>['solar design', 'customer service']</td>\n",
       "    </tr>\n",
       "  </tbody>\n",
       "</table>\n",
       "</div>"
      ],
      "text/plain": [
       "   Unnamed: 0                               Sentence description   \n",
       "0           0  our offerings of products have grown to includ...  \\\n",
       "1           1  as a 100 employee owned company and a certifie...   \n",
       "2           2  there is also an opportunity to help develop a...   \n",
       "3           3  role and responsibilities include but not limi...   \n",
       "4           4  record all customer interactions and schedule ...   \n",
       "\n",
       "                         Sentence label  \n",
       "0  ['electric vehicle', 'solar panels']  \n",
       "1                      ['fossil fuels']  \n",
       "2                  ['renewable energy']  \n",
       "3               ['energy technologies']  \n",
       "4  ['solar design', 'customer service']  "
      ]
     },
     "execution_count": 10,
     "metadata": {},
     "output_type": "execute_result"
    }
   ],
   "source": [
    "df.head()"
   ]
  },
  {
   "cell_type": "code",
   "execution_count": 13,
   "metadata": {},
   "outputs": [],
   "source": [
    "import json \n",
    "\n",
    "def convert_df_json(df, output_path, append=False):\n",
    "    mode = 'a+' if append else 'w'\n",
    "    record_list = []\n",
    "    with open(output_path, mode, encoding=\"utf-8\") as file_out:\n",
    "        for description in df['Sentence description']:\n",
    "            json_record = json.dumps({\"text\": description,})\n",
    "            file_out.write(json_record + \"\\n\")\n",
    "\n",
    "output_path = '../data/jd_data.jsonl'"
   ]
  },
  {
   "cell_type": "code",
   "execution_count": 14,
   "metadata": {},
   "outputs": [],
   "source": [
    "convert_df_json(df, output_path)"
   ]
  },
  {
   "cell_type": "code",
   "execution_count": null,
   "metadata": {},
   "outputs": [],
   "source": []
  }
 ],
 "metadata": {
  "kernelspec": {
   "display_name": "prodigy",
   "language": "python",
   "name": "python3"
  },
  "language_info": {
   "codemirror_mode": {
    "name": "ipython",
    "version": 3
   },
   "file_extension": ".py",
   "mimetype": "text/x-python",
   "name": "python",
   "nbconvert_exporter": "python",
   "pygments_lexer": "ipython3",
   "version": "3.9.16"
  },
  "orig_nbformat": 4
 },
 "nbformat": 4,
 "nbformat_minor": 2
}
